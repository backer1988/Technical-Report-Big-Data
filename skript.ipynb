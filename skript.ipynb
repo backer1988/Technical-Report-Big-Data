{
 "cells": [
  {
   "cell_type": "markdown",
   "id": "d80eee9f",
   "metadata": {},
   "source": [
    "## 1. Importe und Checks"
   ]
  },
  {
   "cell_type": "code",
   "execution_count": 1,
   "id": "7025f5d9",
   "metadata": {},
   "outputs": [
    {
     "name": "stdout",
     "output_type": "stream",
     "text": [
      "pandas: 2.2.3\n",
      "pyarrow: 21.0.0\n"
     ]
    }
   ],
   "source": [
    "import pandas as pd\n",
    "import pyarrow as pa\n",
    "import pyarrow.parquet as pq\n",
    "import re #Regular Expressions für die Entfernung von HTML-Tags etc.\n",
    "from pathlib import Path\n",
    "from scipy.stats import skew\n",
    "import matplotlib.pyplot as plt\n",
    "import numpy as np\n",
    "\n",
    "print(\"pandas:\", pd.__version__)\n",
    "print(\"pyarrow:\", pa.__version__)\n"
   ]
  },
  {
   "cell_type": "markdown",
   "id": "d476a67e",
   "metadata": {},
   "source": [
    "## 2. Einlesen der Daten"
   ]
  },
  {
   "cell_type": "code",
   "execution_count": 2,
   "id": "d53e7727",
   "metadata": {},
   "outputs": [
    {
     "name": "stdout",
     "output_type": "stream",
     "text": [
      "prd_txt.parquet exists: True\n",
      "prd_typ.parquet exists: True\n"
     ]
    }
   ],
   "source": [
    "\n",
    "DATA_DIR = Path(\".\")   # aktueller Ordner\n",
    "PATH_TXT = DATA_DIR / \"prd_txt.parquet\"\n",
    "PATH_TYP = DATA_DIR / \"prd_typ.parquet\"\n",
    "\n",
    "for p in [PATH_TXT, PATH_TYP]:\n",
    "    print(p, \"exists:\", p.exists())"
   ]
  },
  {
   "cell_type": "markdown",
   "id": "c81afdcb",
   "metadata": {},
   "source": [
    "## Fragen \n",
    "**1. Welche Datentypen haben die einzelnen Spalten?**  \n",
    "*Außerdem: Wie groß sind die Dateien überhaupt und wieviele Instanzen liegen vor?*"
   ]
  },
  {
   "cell_type": "code",
   "execution_count": 3,
   "id": "c2a14227",
   "metadata": {},
   "outputs": [
    {
     "name": "stdout",
     "output_type": "stream",
     "text": [
      "prd_txt.parquet — Row groups: 3\n",
      "<pyarrow._parquet.ParquetSchema object at 0x000002516E2F8DC0>\n",
      "required group field_id=-1 schema {\n",
      "  optional binary field_id=-1 produkt_id (String);\n",
      "  optional binary field_id=-1 variation_id (String);\n",
      "  optional binary field_id=-1 beschreibung (String);\n",
      "  optional int64 field_id=-1 __index_level_0__;\n",
      "}\n",
      "\n",
      "Rows (from metadata): 2190338\n",
      "\n",
      "prd_typ.parquet — Row groups: 3\n",
      "<pyarrow._parquet.ParquetSchema object at 0x000002516E262280>\n",
      "required group field_id=-1 schema {\n",
      "  optional binary field_id=-1 produkt_id (String);\n",
      "  optional binary field_id=-1 produkt_klasse (String);\n",
      "}\n",
      "\n",
      "Rows (from metadata): 2863866\n",
      "Rows insgesamt: 2190338\n"
     ]
    },
    {
     "data": {
      "text/html": [
       "<div>\n",
       "<style scoped>\n",
       "    .dataframe tbody tr th:only-of-type {\n",
       "        vertical-align: middle;\n",
       "    }\n",
       "\n",
       "    .dataframe tbody tr th {\n",
       "        vertical-align: top;\n",
       "    }\n",
       "\n",
       "    .dataframe thead th {\n",
       "        text-align: right;\n",
       "    }\n",
       "</style>\n",
       "<table border=\"1\" class=\"dataframe\">\n",
       "  <thead>\n",
       "    <tr style=\"text-align: right;\">\n",
       "      <th></th>\n",
       "      <th>produkt_id</th>\n",
       "      <th>variation_id</th>\n",
       "      <th>beschreibung</th>\n",
       "    </tr>\n",
       "  </thead>\n",
       "  <tbody>\n",
       "    <tr>\n",
       "      <th>0</th>\n",
       "      <td>S0O0Z0F3</td>\n",
       "      <td>S0O0Z0F3XNK8</td>\n",
       "      <td>-</td>\n",
       "    </tr>\n",
       "    <tr>\n",
       "      <th>1</th>\n",
       "      <td>S0Z0H0DJ</td>\n",
       "      <td>S0Z0H0DJYFCH</td>\n",
       "      <td>&lt;h2&gt;Home Wohnideen Schiebevorhang Digitaldruck...</td>\n",
       "    </tr>\n",
       "    <tr>\n",
       "      <th>2</th>\n",
       "      <td>S0J1B062</td>\n",
       "      <td>S0J1B0620136</td>\n",
       "      <td>Leggings für alle, die wissen, worauf es ankom...</td>\n",
       "    </tr>\n",
       "    <tr>\n",
       "      <th>3</th>\n",
       "      <td>S0I010JR</td>\n",
       "      <td>S0I010JRN3AA</td>\n",
       "      <td>&lt;p&gt;&lt;strong&gt;Bruchfeste Apple iPhone 6 Silikon H...</td>\n",
       "    </tr>\n",
       "    <tr>\n",
       "      <th>4</th>\n",
       "      <td>S041B01K</td>\n",
       "      <td>S041B01K7KAI</td>\n",
       "      <td>Maxi-Rock aus Leinen in A-Linie mit Wickelopti...</td>\n",
       "    </tr>\n",
       "  </tbody>\n",
       "</table>\n",
       "</div>"
      ],
      "text/plain": [
       "  produkt_id  variation_id                                       beschreibung\n",
       "0   S0O0Z0F3  S0O0Z0F3XNK8                                                  -\n",
       "1   S0Z0H0DJ  S0Z0H0DJYFCH  <h2>Home Wohnideen Schiebevorhang Digitaldruck...\n",
       "2   S0J1B062  S0J1B0620136  Leggings für alle, die wissen, worauf es ankom...\n",
       "3   S0I010JR  S0I010JRN3AA  <p><strong>Bruchfeste Apple iPhone 6 Silikon H...\n",
       "4   S041B01K  S041B01K7KAI  Maxi-Rock aus Leinen in A-Linie mit Wickelopti..."
      ]
     },
     "metadata": {},
     "output_type": "display_data"
    },
    {
     "data": {
      "text/plain": [
       "produkt_id      string[pyarrow]\n",
       "variation_id    string[pyarrow]\n",
       "beschreibung    string[pyarrow]\n",
       "dtype: object"
      ]
     },
     "metadata": {},
     "output_type": "display_data"
    },
    {
     "data": {
      "text/html": [
       "<div>\n",
       "<style scoped>\n",
       "    .dataframe tbody tr th:only-of-type {\n",
       "        vertical-align: middle;\n",
       "    }\n",
       "\n",
       "    .dataframe tbody tr th {\n",
       "        vertical-align: top;\n",
       "    }\n",
       "\n",
       "    .dataframe thead th {\n",
       "        text-align: right;\n",
       "    }\n",
       "</style>\n",
       "<table border=\"1\" class=\"dataframe\">\n",
       "  <thead>\n",
       "    <tr style=\"text-align: right;\">\n",
       "      <th></th>\n",
       "      <th>produkt_id</th>\n",
       "      <th>variation_id</th>\n",
       "      <th>beschreibung</th>\n",
       "    </tr>\n",
       "  </thead>\n",
       "  <tbody>\n",
       "    <tr>\n",
       "      <th>count</th>\n",
       "      <td>2190338</td>\n",
       "      <td>2190338</td>\n",
       "      <td>1996797</td>\n",
       "    </tr>\n",
       "    <tr>\n",
       "      <th>unique</th>\n",
       "      <td>1129830</td>\n",
       "      <td>2190338</td>\n",
       "      <td>922474</td>\n",
       "    </tr>\n",
       "    <tr>\n",
       "      <th>top</th>\n",
       "      <td>S0E1A0R3</td>\n",
       "      <td>S0O0Z0F3XNK8</td>\n",
       "      <td>-</td>\n",
       "    </tr>\n",
       "    <tr>\n",
       "      <th>freq</th>\n",
       "      <td>162</td>\n",
       "      <td>1</td>\n",
       "      <td>94834</td>\n",
       "    </tr>\n",
       "  </tbody>\n",
       "</table>\n",
       "</div>"
      ],
      "text/plain": [
       "       produkt_id  variation_id beschreibung\n",
       "count     2190338       2190338      1996797\n",
       "unique    1129830       2190338       922474\n",
       "top      S0E1A0R3  S0O0Z0F3XNK8            -\n",
       "freq          162             1        94834"
      ]
     },
     "execution_count": 3,
     "metadata": {},
     "output_type": "execute_result"
    }
   ],
   "source": [
    "# %% [markdown]\n",
    "# ## 3. Check Anzahl der Zeilen & komplettes Einlesen\n",
    "\n",
    "# %%\n",
    "pf_txt = pq.ParquetFile(PATH_TXT)\n",
    "print(\"prd_txt.parquet — Row groups:\", pf_txt.num_row_groups)\n",
    "print(pf_txt.schema)\n",
    "print(\"Rows (from metadata):\", pf_txt.metadata.num_rows)\n",
    "\n",
    "pf_typ = pq.ParquetFile(PATH_TYP)\n",
    "print(\"\\nprd_typ.parquet — Row groups:\", pf_typ.num_row_groups)\n",
    "print(pf_typ.schema)\n",
    "print(\"Rows (from metadata):\", pf_typ.metadata.num_rows)\n",
    "\n",
    "# 1) Komplettes Einlesen der Textdaten\n",
    "tbl_txt = pq.read_table(PATH_TXT, columns=[\"produkt_id\", \"variation_id\", \"beschreibung\"])\n",
    "df_txt = tbl_txt.to_pandas(types_mapper=pd.ArrowDtype)\n",
    "\n",
    "# 2) Erste Checks\n",
    "print(\"Rows insgesamt:\", len(df_txt))\n",
    "display(df_txt.head())\n",
    "display(df_txt.dtypes)\n",
    "\n",
    "# 3) Describe Methode\n",
    "df_txt.describe()"
   ]
  },
  {
   "cell_type": "markdown",
   "id": "663d3302",
   "metadata": {},
   "source": [
    "\n",
    "\n",
    "**2. Gibt es fehlende Werte? Falls ja, wie gehen Sie damit um?** \n",
    "Im prd.txt-File gibt es in 193.541 Instanzen keine Beschreibung. Diese Daten können m.E. nicht für das Training verwendet werden. Interessant wäre es noch, wie wir mit sehr kurzen Texten umgehen.\n"
   ]
  },
  {
   "cell_type": "code",
   "execution_count": 5,
   "id": "49bd8bcb",
   "metadata": {},
   "outputs": [
    {
     "name": "stdout",
     "output_type": "stream",
     "text": [
      "\n",
      "Fehlende Werte je Spalte:\n"
     ]
    },
    {
     "data": {
      "text/plain": [
       "produkt_id           0\n",
       "variation_id         0\n",
       "beschreibung    193541\n",
       "dtype: int64"
      ]
     },
     "metadata": {},
     "output_type": "display_data"
    },
    {
     "data": {
      "text/plain": [
       "produkt_id      False\n",
       "variation_id    False\n",
       "beschreibung     True\n",
       "dtype: bool"
      ]
     },
     "execution_count": 5,
     "metadata": {},
     "output_type": "execute_result"
    }
   ],
   "source": [
    "print(\"\\nFehlende Werte je Spalte:\")\n",
    "df_txt[\"desc_len\"] = df_txt[\"beschreibung\"].astype(\"string\").str.len() #Erzeugung der Spalte desc_len in df_txt\n",
    "display(df_txt.isna().sum().drop(\"desc_len\"))\n",
    "df_txt.isna().any().drop(\"desc_len\")"
   ]
  },
  {
   "cell_type": "markdown",
   "id": "2b5e1ca4",
   "metadata": {},
   "source": [
    "**3. Gibt es Extremwerte?**"
   ]
  },
  {
   "cell_type": "code",
   "execution_count": 6,
   "id": "2cb06c94",
   "metadata": {},
   "outputs": [
    {
     "name": "stdout",
     "output_type": "stream",
     "text": [
      "\n",
      "Textlängen-Statistik:\n"
     ]
    },
    {
     "data": {
      "text/plain": [
       "count     1996797.0\n",
       "mean     741.595983\n",
       "std      861.822553\n",
       "min             1.0\n",
       "50%           565.0\n",
       "90%          1585.0\n",
       "99%          2875.0\n",
       "max        186751.0\n",
       "Name: desc_len, dtype: Float64"
      ]
     },
     "metadata": {},
     "output_type": "display_data"
    },
    {
     "name": "stdout",
     "output_type": "stream",
     "text": [
      "Die Anzahl von Texten mit weniger als zehn Zeichen beträgt: 96262. Dies entspricht einem Anteil von 4.39%.\n",
      "Die Anzahl von Texten mit genau einem Zeichen beträgt: 95531. Dies entspricht einem Anteil von 4.39%.\n"
     ]
    }
   ],
   "source": [
    "# 3) Textlängen als Schnell-Heuristik\n",
    "\n",
    "print(\"\\nTextlängen-Statistik:\")\n",
    "display(df_txt[\"desc_len\"].describe(percentiles=[0.5, 0.9, 0.99]))\n",
    "\n",
    "# Anteil kurzer Texte\n",
    "short_texts = (df_txt[\"desc_len\"] < 10).sum()\n",
    "short_texts_ratio = short_texts / len(df_txt)\n",
    "print(f\"Die Anzahl von Texten mit weniger als zehn Zeichen beträgt: {short_texts}. \"\n",
    "      f\"Dies entspricht einem Anteil von {short_texts_ratio:.2%}.\")\n",
    "\n",
    "# Anteil sehr kurzer Texte \n",
    "very_short_texts = (df_txt[\"desc_len\"] == 1).sum()\n",
    "very_short_texts_ratio = very_short_texts / len(df_txt)\n",
    "print(f\"Die Anzahl von Texten mit genau einem Zeichen beträgt: {very_short_texts}. \"\n",
    "      f\"Dies entspricht einem Anteil von {short_texts_ratio:.2%}.\")"
   ]
  },
  {
   "cell_type": "markdown",
   "id": "7e1f4063",
   "metadata": {},
   "source": [
    "**Wie ist die Schiefe der Textlängen-Verteilung?**"
   ]
  },
  {
   "cell_type": "code",
   "execution_count": 7,
   "id": "156d595a",
   "metadata": {},
   "outputs": [
    {
     "name": "stdout",
     "output_type": "stream",
     "text": [
      "Skewness: 74.01428411132152\n"
     ]
    }
   ],
   "source": [
    "from scipy.stats import skew\n",
    "skewness = skew(df_txt[\"desc_len\"].dropna())\n",
    "print(\"Skewness:\", skewness)\n",
    "\n",
    "#Hier möchte ich noch eine Interpretation für die Schiefe der Verteilung einbauen"
   ]
  },
  {
   "cell_type": "markdown",
   "id": "c7ba7e5a",
   "metadata": {},
   "source": [
    "**4. Beinhalten die Beschreibunge unerwartete oder unnötige Zeichen?**"
   ]
  },
  {
   "cell_type": "code",
   "execution_count": 8,
   "id": "6f76ab09",
   "metadata": {},
   "outputs": [
    {
     "name": "stdout",
     "output_type": "stream",
     "text": [
      "<h2>Home Wohnideen Schiebevorhang Digitaldruck Bambus-Optik &#34;Eucalia&#34; 260 x 60 cm Grau</h2><br /><b>Kurzbeschreibung</b><p>- VISION S -<br /> Dieser Schiebevorhang mit dem digitalen Fotodruck &#34;EUCALIA&#34; ergibt durch das fotorealistische Motiv einen tollen Effekt an Ihren Fenstern. Der Schiebevorhang wurde digital bedruckt und zeigt so seine Brillanz auf dem HALBTRANSPARENTEM STOFF in BAMBUS-OPTIK mit leichten QUEREFFEKTEN. Die Seiten wurden durch spezielle Lasertechnik geschnitten. Inkl. Paneelwagen mit Röllchen und X-Gleitern für alle gängigen Gardinenschienen. Durch die hochwertige Aluminium-Klemmleiste haben Sie die Möglichkeit den Schiebevorhang auf jede beliebige Höhe zu kürzen. Material: 100% Polyester. Dieser Schiebevorhang lässt sich sehr gut mit weiteren Schiebegardinen kombinieren.</p><br /><b>Zusammenfassung</b><ul><li> 1x Home Wohnideen Schiebevorhang Digitaldruck Bambus-Optik &#34;Eucalia&#34; 260 x 60 cm Grau</li><li> Farbenfrohe Designs</li><li> hochwertige Verarbeitung</li><li> Qualitätsware der Marke Home Wohnideen</li><li> alles aufeinander abgestimmt</li><li> immer voll im Trend</li></ul><br /><b>Material</b><ul><li>100 % Polyester </li></ul><br /><b>Pflegehinweise:</b><ul><li>abwaschbar</li><li> nicht trocknergeeignet</li></ul><br />\n",
      "0                                                    -\n",
      "1    <h2>Home Wohnideen Schiebevorhang Digitaldruck...\n",
      "2    Leggings für alle, die wissen, worauf es ankom...\n",
      "3    <p><strong>Bruchfeste Apple iPhone 6 Silikon H...\n",
      "4    Maxi-Rock aus Leinen in A-Linie mit Wickelopti...\n",
      "5    Vielseitig: Laptoptasche von Timbuk2 mit viele...\n",
      "6                 Material: 95% Baumwolle, 5% Elasthan\n",
      "7    Sonnensegel sind vielseitige Terrassenüberdach...\n",
      "8    Positiv, klar und zukunftsorientiert: die cool...\n",
      "9    <div class=\"swatches-product-details-container...\n",
      "Name: beschreibung, dtype: string[pyarrow]\n"
     ]
    }
   ],
   "source": [
    "print (df_txt[\"beschreibung\"][1])\n",
    "print (df_txt[\"beschreibung\"][:10])"
   ]
  },
  {
   "cell_type": "markdown",
   "id": "7692f290",
   "metadata": {},
   "source": [
    "Die Texte enthalten auffallend viele HTML-Tags. Diese könnte man m.E. rausfiltern"
   ]
  },
  {
   "cell_type": "markdown",
   "id": "a1ed9a99",
   "metadata": {},
   "source": [
    "**5. Enthalten die Daten Duplikate?**"
   ]
  },
  {
   "cell_type": "markdown",
   "id": "20dc480b",
   "metadata": {},
   "source": [
    "Nach meinem Verständnis ist die ID Variation ID letztlich der \"echte\" unique identifier, über den gemerged werden müsste. Pro Produkt ID kann es mehrere Variation IDs geben (z.B. Handyhüllen in unterschiedlichen Farben)"
   ]
  },
  {
   "cell_type": "code",
   "execution_count": 10,
   "id": "518f03d5",
   "metadata": {},
   "outputs": [
    {
     "name": "stdout",
     "output_type": "stream",
     "text": [
      "Die Anzahl der Einträge für Produkt-ID in der Typ-Datei beträgt 2,863,866. Die Anzahl der eindeutigen Produkt-IDs beträgt 2,863,866.\n"
     ]
    }
   ],
   "source": [
    "# Labels (erste RowGroup)\n",
    "tbl_typ = pq.ParquetFile(PATH_TYP).read()\n",
    "df_typ = tbl_typ.to_pandas(types_mapper=pd.ArrowDtype) #Conversion von pyarrow.parquet zu pandas zur Datenanalyse\n",
    "print(f'Die Anzahl der Einträge für Produkt-ID in der Typ-Datei beträgt {df_typ.shape[0]:,}. Die Anzahl der eindeutigen Produkt-IDs beträgt {df_typ[\"produkt_id\"].nunique():,}.')"
   ]
  },
  {
   "cell_type": "code",
   "execution_count": 11,
   "id": "573ab409",
   "metadata": {},
   "outputs": [
    {
     "name": "stdout",
     "output_type": "stream",
     "text": [
      "Die Anzahl der Einträge für Produkt-ID in der Typ-Datei beträgt 2,190,338. Die Anzahl der eindeutigen Beschreibungen beträgt 922,474.\n"
     ]
    }
   ],
   "source": [
    "print(f'Die Anzahl der Einträge für Produkt-ID in der Typ-Datei beträgt {df_txt.shape[0]:,}. Die Anzahl der eindeutigen Beschreibungen beträgt {df_txt[\"beschreibung\"].nunique():,}.')"
   ]
  },
  {
   "cell_type": "markdown",
   "id": "1f1ec1d6",
   "metadata": {},
   "source": [
    "EIne verwandte Frage ist, ob wir Produkt-IDs mit unterschiedlichen Klassenzuordnungen haben:"
   ]
  },
  {
   "cell_type": "code",
   "execution_count": 12,
   "id": "61c24137",
   "metadata": {},
   "outputs": [
    {
     "name": "stdout",
     "output_type": "stream",
     "text": [
      "Produkt-IDs mit >1 unterschiedlicher Klasse: 0\n"
     ]
    }
   ],
   "source": [
    "multi = (df_typ.groupby(\"produkt_id\")[\"produkt_klasse\"]\n",
    "         .nunique(dropna=True).gt(1).sum())\n",
    "print(\"Produkt-IDs mit >1 unterschiedlicher Klasse:\", multi)"
   ]
  },
  {
   "cell_type": "markdown",
   "id": "be14149a",
   "metadata": {},
   "source": [
    "## Vorverarbeitung der Beschreibungen ## "
   ]
  },
  {
   "cell_type": "code",
   "execution_count": 43,
   "id": "f537ae1f",
   "metadata": {},
   "outputs": [],
   "source": [
    "df_txt[\"beschreibung\"] = (\n",
    "    df_txt[\"beschreibung\"]\n",
    "    .str.replace(r\"<.*?>\", \"\", regex=True)\n",
    "    .str.replace(\"&amp;\", \"und\")\n",
    "    .str.replace(\"&#43;\", \"und\")\n",
    "    .str.replace(\",\", \"\")\n",
    "    .str.replace(\".\", \"\")\n",
    "    .str.replace(\"!\", \"\")\n",
    "    .str.replace(\";\", \"\")\n",
    "    .str.replace(\"?\", \"\")\n",
    "    .str.replace(\":\", \"\")\n",
    "    .str.replace(\"&#34\", \"\") # Entfernung von Anführungszeichen\n",
    "    .str.lower()\n",
    ")"
   ]
  },
  {
   "cell_type": "code",
   "execution_count": 44,
   "id": "e901d09a",
   "metadata": {},
   "outputs": [
    {
     "data": {
      "text/plain": [
       "'-'"
      ]
     },
     "metadata": {},
     "output_type": "display_data"
    },
    {
     "data": {
      "text/plain": [
       "'das top bringt mit der edlen spitze feminine eleganz in deinen kleiderschrank das romantische oberteil punktet mit zarter blumenspitze und kordelstickereien zum echten hingucker wird das schmal geschnittene spitzentop besonders durch die durchbrochene transparente optik unerwünschte einblicke werden dank der blickdichten unterfütterung vermieden'"
      ]
     },
     "metadata": {},
     "output_type": "display_data"
    },
    {
     "data": {
      "text/plain": [
       "'das wandbild mit dem motiv metropole skyline abstrakte collage des künstlers nettesart überzeugt durch originalgetreue druckqualität und hochwertige basismaterialen die modernen digitaldruckverfahren sorgen für kräftige farben und eine langlebige farbechtheit das motiv des künstlers nettesart wird ihnen dadurch wie abgebildet nach hause geliefert entscheiden sie sich für eine produktart die zu ihrem einrichtungsstil passt und ihren ansprüchen erfüllt die detaillierten merkmale unserer alubilder leinwandbilder poster und wandaufkleber (vinyl oder vliesstoff) können sie den produkteigenschaften nachlesenprodukteigenschaftenleinwandbildleinwand auf 2 cm keilrahmen gespannt - fertig zum aufhängenstrukturierte und blickdichte leinwandstruktur in seitenmatter optikuv-beständiger und hochaufgelöster digitaldruck in künstlerqualitätbedruckter seitenrand mit gespiegeltem motivinkl keile zum nachspannenhinweis wandschrauben oder dübel sind nicht enthalten posterpremium-papier in 210 g/m²kunstdruck in galerie qualitätuv-beständiger und hochaufgelöster digitaldruckbrillante und dauerhafte farbintensitäthinweis poster wird ohne rahmen geliefert wandaufkleber - vinylultra-dünne selbstklebende und blickdichte vinyl foliemotiv ist nicht freigestellt sondern auf eine eckige wandfolie gedrucktuv-beständiger direktdruck in brillanter farbintensitätgeeignet für innen- und feuchträume (wasserfeste oberfläche)direktes kleben an die wand - inkl unbedrucktem muster zur test-klebunghinweiseuntergrund muss frei von staub fett öl silikon acryl und latex seinklebeanleitung wird beigelegt wandaufkleber - vliesstoffselbstklebender vliesstoffbesonderheit knitterfrei und rückstandslos von der wand wieder ablösbarmotiv ist nicht freigestellt sondern auf eine eckige wandfolie gedrucktuv-beständiger direktdruck in brillanter farbintensitätdirektes kleben an die wand - inkl unbedrucktem muster zur test-klebunghinweiseuntergrund muss frei von staub fett öl silikon acryl und latex seinfür feuchträume nicht geeignetklebeanleitung wird beigelegt'"
      ]
     },
     "metadata": {},
     "output_type": "display_data"
    },
    {
     "data": {
      "text/plain": [
       "'bed_64482_queen_deset enthält 1 tagesdecke (220 cm breite x 220 cm länge) und 2 kissenbezüge (75 cm breite x 50 cm länge) eine moderne alternative zum traditionellen klassiker kann auch im sommer als decke verwendet werden hergestellt aus sehr strapazierfähigem und nachhaltigem material das super weich und luftdurchlässig ist der stoff ist langlebig und umweltfreundlich keine schädlichen farbstoffe es wurden nur ökologisch freundliche tinten verwendet die farben werden dank neuer digitaler druckmethoden nicht verblassen wählen sie aus verschiedenen farbpaletten und unseren einzigartigen designs welche perfekt zu ihnen passen mit tausenden verschiedenen designs sind unsere produkte eine wunderbare geschenkidee in unseren otto shop finden sie das was sie suchen die hochwertige qualität unserer einzigartigen produkte wird sie und ihre familie werden langfristig erfreuen die größen können gering abweichen (1-2 cm) wir bemühen uns möglichst realistische vorschaubilder auszusuchen je nach bildschirm können die farben sich unterscheiden wir bitten um ihr verständnis das wir hierfür keine verantwortung tragen können'"
      ]
     },
     "metadata": {},
     "output_type": "display_data"
    },
    {
     "data": {
      "text/plain": [
       "'perfekt für business-reisen das traveller-sakko von james zeichnet sich durch das praktische taschen-ensemble und die knitterarme qualität aus'"
      ]
     },
     "metadata": {},
     "output_type": "display_data"
    },
    {
     "data": {
      "text/plain": [
       "'vielseitig laptoptasche von timbuk2 mit vielen sortierhilfen quergurt zur stabilisierung beim radfahren gepolstertem fach für laptops und reflektierenden details'"
      ]
     },
     "metadata": {},
     "output_type": "display_data"
    },
    {
     "data": {
      "text/plain": [
       "'ein klassischer schnitt trifft auf einen modischen print beim shirt big fishing alpine blue von ahorn sportswear das schicke oberteil ist außerdem mit lycrabündchen und einem nackenband ausgestattet sie sorgen für formstabilität elastizität und hohen tragekomfort für letzteres ist auch die verarbeitung aus 100 % reiner baumwolle verantwortlichmaterial 100% baumwolle'"
      ]
     },
     "metadata": {},
     "output_type": "display_data"
    },
    {
     "data": {
      "text/plain": [
       "'passender aufdruck zur fußball-wm brasilien vintage auf der suche nach einem coolen motiv oder aufdruck zum thema fußball brasilien vintage eignet sich perfekt zu der fußball-wm ist für viele ein highlight – wenn im sommer die deutsche mannschaft wieder auf dem platz steht das coole motiv zum thema brasilien vintage trifft genau ins schwarze um deinem nachwuchs eine freude zu machen kombiniert werden flagge und brasilien-flagge zum angesagten vintage-look das perfekte motiv zum thema fußball länder der aufdruck brasilien vintage bringt dich mit sicherheit zum strahlen mit unserem schnellen versand und der tollen qualität konnten wir bisher zahlreiche kunden zufrieden stellen printed in germany die textilien werden ausschließlich mit designs von ausgebildeteten grafikerinnen und grafikern bedruckt die verwendete farbe wird direkt auf die textilien gedruckt und ist somit besonders deckend damit ein perfektes druckergebnis erzielt wird also warte nicht länger – denn als echter fan darf dir das teil nicht fehlen 57143330'"
      ]
     },
     "metadata": {},
     "output_type": "display_data"
    },
    {
     "data": {
      "text/plain": [
       "'legeres basic für die freizeit das boss poloshirt aus reiner baumwolle das schmal geschnittene herren-polo zeigt sich mit gerippten ärmelbündchen und logo-applikation auf der brustsportive akzente setzt der struktur-streifen am kragen das gewaschene finish verleiht dem stückgefärbten shirt eine lässige optik kombinieren sie den style je nach anlass mit einer chino einer jeans oder shorts  \\xa0 '"
      ]
     },
     "metadata": {},
     "output_type": "display_data"
    },
    {
     "data": {
      "text/plain": [
       "'behalte deinen fokus von der aufwärmrunde bis zum zielsprint dieser laufschuh für männer verfügt über ein nahtloses obermaterial das für einen reibungsfreien sitz und leichten support sorgt das webmaterial im mittelfußbereich gibt dir perfekten halt'"
      ]
     },
     "metadata": {},
     "output_type": "display_data"
    }
   ],
   "source": [
    "display(df_txt.iloc[0][\"beschreibung\"])\n",
    "display(df_txt.iloc[11][\"beschreibung\"])\n",
    "display(df_txt.iloc[21][\"beschreibung\"])\n",
    "display(df_txt.iloc[31][\"beschreibung\"])\n",
    "display(df_txt.iloc[41][\"beschreibung\"])\n",
    "display(df_txt.iloc[5][\"beschreibung\"])\n",
    "display(df_txt.iloc[61][\"beschreibung\"])\n",
    "display(df_txt.iloc[111231][\"beschreibung\"])\n",
    "display(df_txt.iloc[42][\"beschreibung\"])\n",
    "display(df_txt.iloc[491827][\"beschreibung\"])\n"
   ]
  },
  {
   "cell_type": "markdown",
   "id": "dd19c89a",
   "metadata": {},
   "source": [
    "## Begrenzung der Textlängen ##"
   ]
  },
  {
   "cell_type": "code",
   "execution_count": 45,
   "id": "4d64f3f0",
   "metadata": {},
   "outputs": [
    {
     "name": "stdout",
     "output_type": "stream",
     "text": [
      "count     1996797.0\n",
      "mean     666.056124\n",
      "std      536.525731\n",
      "min             0.0\n",
      "50%           527.0\n",
      "90%          1391.0\n",
      "99%          2338.0\n",
      "max          5000.0\n",
      "Name: desc_len, dtype: double[pyarrow]\n"
     ]
    },
    {
     "data": {
      "image/png": "[encoded data removed]",
      "text/plain": [
       "<Figure size 1000x500 with 1 Axes>"
      ]
     },
     "metadata": {},
     "output_type": "display_data"
    },
    {
     "name": "stdout",
     "output_type": "stream",
     "text": [
      "count     1996797.0\n",
      "mean     666.056124\n",
      "std      536.525731\n",
      "min             0.0\n",
      "50%           527.0\n",
      "90%          1391.0\n",
      "99%          2338.0\n",
      "max          5000.0\n",
      "Name: desc_len, dtype: double[pyarrow]\n"
     ]
    }
   ],
   "source": [
    "# 1) Fehlende Texte entfernen\n",
    "df_txt_clean = df_txt.dropna(subset=[\"beschreibung\"]).copy()\n",
    "\n",
    "# 2) Texte auf 5000 Zeichen begrenzen\n",
    "df_txt_clean = df_txt.dropna(subset=[\"beschreibung\"]).copy()\n",
    "df_txt_clean[\"beschreibung\"] = df_txt_clean[\"beschreibung\"].str[:5000]\n",
    "\n",
    "# Neue Längen\n",
    "df_txt_clean[\"desc_len\"] = df_txt_clean[\"beschreibung\"].str.len()\n",
    "print(df_txt_clean[\"desc_len\"].describe(percentiles=[0.5, 0.9, 0.99]))\n",
    "\n",
    "# Vergleich Histogramm nach Cleaning\n",
    "import matplotlib.pyplot as plt\n",
    "df_txt_clean[\"desc_len\"].hist(bins=100, figsize=(10,5))\n",
    "plt.xlabel(\"Textlänge (Zeichen)\")\n",
    "plt.ylabel(\"Häufigkeit\")\n",
    "plt.title(\"Histogramm der Textlängen nach Cleaning (Sample)\")\n",
    "plt.show()\n",
    "\n",
    "# 3) Längen nochmal prüfen\n",
    "df_txt_clean[\"desc_len\"] = df_txt_clean[\"beschreibung\"].str.len()\n",
    "print(df_txt_clean[\"desc_len\"].describe(percentiles=[0.5, 0.9, 0.99]))\n"
   ]
  },
  {
   "cell_type": "markdown",
   "id": "56d70ad6",
   "metadata": {},
   "source": [
    "## 4. Labelverteilung "
   ]
  },
  {
   "cell_type": "code",
   "execution_count": null,
   "id": "3edee0e6",
   "metadata": {},
   "outputs": [
    {
     "name": "stdout",
     "output_type": "stream",
     "text": [
      "Rows im Label-Sample: 2863866\n"
     ]
    },
    {
     "data": {
      "text/html": [
       "<div>\n",
       "<style scoped>\n",
       "    .dataframe tbody tr th:only-of-type {\n",
       "        vertical-align: middle;\n",
       "    }\n",
       "\n",
       "    .dataframe tbody tr th {\n",
       "        vertical-align: top;\n",
       "    }\n",
       "\n",
       "    .dataframe thead th {\n",
       "        text-align: right;\n",
       "    }\n",
       "</style>\n",
       "<table border=\"1\" class=\"dataframe\">\n",
       "  <thead>\n",
       "    <tr style=\"text-align: right;\">\n",
       "      <th></th>\n",
       "      <th>produkt_id</th>\n",
       "      <th>produkt_klasse</th>\n",
       "    </tr>\n",
       "  </thead>\n",
       "  <tbody>\n",
       "    <tr>\n",
       "      <th>0</th>\n",
       "      <td>S0C1K0CL</td>\n",
       "      <td>Netzteile</td>\n",
       "    </tr>\n",
       "    <tr>\n",
       "      <th>1</th>\n",
       "      <td>S0T110ZP</td>\n",
       "      <td>Hosen</td>\n",
       "    </tr>\n",
       "    <tr>\n",
       "      <th>2</th>\n",
       "      <td>1319960810</td>\n",
       "      <td>Hartbodenbeläge</td>\n",
       "    </tr>\n",
       "    <tr>\n",
       "      <th>3</th>\n",
       "      <td>S0Y0R0EW</td>\n",
       "      <td>Sitzmöbel-Sets</td>\n",
       "    </tr>\n",
       "    <tr>\n",
       "      <th>4</th>\n",
       "      <td>S05180NJ</td>\n",
       "      <td>Hüllen</td>\n",
       "    </tr>\n",
       "  </tbody>\n",
       "</table>\n",
       "</div>"
      ],
      "text/plain": [
       "   produkt_id   produkt_klasse\n",
       "0    S0C1K0CL        Netzteile\n",
       "1    S0T110ZP            Hosen\n",
       "2  1319960810  Hartbodenbeläge\n",
       "3    S0Y0R0EW   Sitzmöbel-Sets\n",
       "4    S05180NJ           Hüllen"
      ]
     },
     "metadata": {},
     "output_type": "display_data"
    },
    {
     "name": "stdout",
     "output_type": "stream",
     "text": [
      "Anzahl unterschiedlicher Klassen: 1738\n"
     ]
    },
    {
     "data": {
      "text/plain": [
       "produkt_klasse\n",
       "Schutzfolien          210478\n",
       "Schuhe                161827\n",
       "Hüllen                154191\n",
       "Shirts                111593\n",
       "Arbeitsspeicher       102618\n",
       "Fahrradhalterungen     82313\n",
       "Taschen                78193\n",
       "Teppiche               65570\n",
       "Hosen                  64761\n",
       "Akkumulatoren          60304\n",
       "Leuchten               51895\n",
       "Jacken                 47916\n",
       "Duschvorhänge          47820\n",
       "Bilder                 44739\n",
       "Kleider                38489\n",
       "Gardinen               37628\n",
       "Tischdecken            36577\n",
       "Aufbewahrungsboxen     36152\n",
       "Kissen                 35713\n",
       "Halsketten             30448\n",
       "Name: count, dtype: Int64"
      ]
     },
     "metadata": {},
     "output_type": "display_data"
    },
    {
     "data": {
      "text/plain": [
       "produkt_klasse\n",
       "Schutzfolien       0.073494\n",
       "Schuhe             0.056506\n",
       "Hüllen              0.05384\n",
       "Shirts             0.038966\n",
       "Arbeitsspeicher    0.035832\n",
       "Name: count, dtype: Float64"
      ]
     },
     "execution_count": 46,
     "metadata": {},
     "output_type": "execute_result"
    }
   ],
   "source": [
    "\n",
    "\n",
    "print(\"Rows im Label-Sample:\", len(df_typ)) #Anzahl der Zeilen > 1 Mio. \n",
    "display(df_typ.head()) #Zeige die ersten 5 Zeilen an (5 ist Standardeinstellung für die head()-Funktion)\n",
    "\n",
    "# Anzahl unterschiedlicher Klassen\n",
    "n_classes = df_typ[\"produkt_klasse\"].astype(\"string\").nunique(dropna=True)\n",
    "print(\"Anzahl unterschiedlicher Klassen:\", n_classes)\n",
    "\n",
    "# Klassenverteilung (Top 20)\n",
    "vc = df_typ[\"produkt_klasse\"].astype(\"string\").value_counts(dropna=False)\n",
    "display(vc.head(20))\n",
    "\n",
    "vc_rel = vc / vc.sum()\n",
    "type(vc_rel)\n",
    "vc_rel.head()\n",
    "\n"
   ]
  },
  {
   "cell_type": "markdown",
   "id": "66d8ec1d",
   "metadata": {},
   "source": [
    "## Berechnung Entropie der Klassenlabels und Visualisierung der Klassen"
   ]
  },
  {
   "cell_type": "code",
   "execution_count": 47,
   "id": "8edfa82c",
   "metadata": {},
   "outputs": [
    {
     "name": "stdout",
     "output_type": "stream",
     "text": [
      "4.818707858709038\n",
      "0.6458969399030611\n"
     ]
    },
    {
     "data": {
      "image/png": "[encoded data removed]",
      "text/plain": [
       "<Figure size 1200x500 with 1 Axes>"
      ]
     },
     "metadata": {},
     "output_type": "display_data"
    }
   ],
   "source": [
    "entropy_labels = 0\n",
    "\n",
    "for i in range(len(vc_rel)):\n",
    "    p = vc_rel.iloc[i] #iloc ist bei pandas sicherer, weil es nicht auf das Label im Index zugreift, sondern auf die Position (Index kann anders gelabeld sein)\n",
    "    entropy_labels += p * np.log(p)\n",
    "\n",
    "entropy_labels = -entropy_labels\n",
    "entropy_norm = entropy_labels / np.log(len(vc_rel))\n",
    "print(entropy_labels)\n",
    "print(entropy_norm)\n",
    "\n",
    "topk = 20\n",
    "vc.head(topk).plot(kind=\"bar\", figsize=(12,5))\n",
    "plt.ylabel(\"Anzahl Produkte\")\n",
    "plt.title(f\"Top {topk} Produktklassen\")\n",
    "plt.xticks(rotation=45, ha=\"right\")\n",
    "plt.show()"
   ]
  },
  {
   "cell_type": "markdown",
   "id": "16f4c18a",
   "metadata": {},
   "source": [
    "Kurzer Check, ob einige Produkte auch mehr als ein Label haben"
   ]
  },
  {
   "cell_type": "code",
   "execution_count": null,
   "id": "f48f5004",
   "metadata": {},
   "outputs": [],
   "source": []
  },
  {
   "cell_type": "markdown",
   "id": "c82375ac",
   "metadata": {},
   "source": [
    "## Join von Tabellen Typ und Text\n",
    "Zu beachten ist, dass die Tabelle Typ mehr Einträge beinhaltet als die Tabelle Text"
   ]
  },
  {
   "cell_type": "code",
   "execution_count": null,
   "id": "9238ab88",
   "metadata": {},
   "outputs": [
    {
     "name": "stdout",
     "output_type": "stream",
     "text": [
      "Zeilen nach Join: 1996748\n",
      "Anteil ohne Label: 0.0\n"
     ]
    },
    {
     "data": {
      "text/html": [
       "<div>\n",
       "<style scoped>\n",
       "    .dataframe tbody tr th:only-of-type {\n",
       "        vertical-align: middle;\n",
       "    }\n",
       "\n",
       "    .dataframe tbody tr th {\n",
       "        vertical-align: top;\n",
       "    }\n",
       "\n",
       "    .dataframe thead th {\n",
       "        text-align: right;\n",
       "    }\n",
       "</style>\n",
       "<table border=\"1\" class=\"dataframe\">\n",
       "  <thead>\n",
       "    <tr style=\"text-align: right;\">\n",
       "      <th></th>\n",
       "      <th>produkt_id</th>\n",
       "      <th>variation_id</th>\n",
       "      <th>beschreibung</th>\n",
       "      <th>desc_len</th>\n",
       "      <th>produkt_klasse</th>\n",
       "    </tr>\n",
       "  </thead>\n",
       "  <tbody>\n",
       "    <tr>\n",
       "      <th>0</th>\n",
       "      <td>S0O0Z0F3</td>\n",
       "      <td>S0O0Z0F3XNK8</td>\n",
       "      <td>-</td>\n",
       "      <td>1</td>\n",
       "      <td>Blusen</td>\n",
       "    </tr>\n",
       "    <tr>\n",
       "      <th>1</th>\n",
       "      <td>S0Z0H0DJ</td>\n",
       "      <td>S0Z0H0DJYFCH</td>\n",
       "      <td>home wohnideen schiebevorhang digitaldruck bam...</td>\n",
       "      <td>1060</td>\n",
       "      <td>Gardinen</td>\n",
       "    </tr>\n",
       "    <tr>\n",
       "      <th>2</th>\n",
       "      <td>S0J1B062</td>\n",
       "      <td>S0J1B0620136</td>\n",
       "      <td>leggings für alle die wissen worauf es ankommt...</td>\n",
       "      <td>363</td>\n",
       "      <td>Hosen</td>\n",
       "    </tr>\n",
       "    <tr>\n",
       "      <th>3</th>\n",
       "      <td>S0I010JR</td>\n",
       "      <td>S0I010JRN3AA</td>\n",
       "      <td>bruchfeste apple iphone 6 silikon hülle im all...</td>\n",
       "      <td>999</td>\n",
       "      <td>Hüllen</td>\n",
       "    </tr>\n",
       "    <tr>\n",
       "      <th>4</th>\n",
       "      <td>S041B01K</td>\n",
       "      <td>S041B01K7KAI</td>\n",
       "      <td>maxi-rock aus leinen in a-linie mit wickelopti...</td>\n",
       "      <td>190</td>\n",
       "      <td>Röcke</td>\n",
       "    </tr>\n",
       "  </tbody>\n",
       "</table>\n",
       "</div>"
      ],
      "text/plain": [
       "  produkt_id  variation_id                                       beschreibung  \\\n",
       "0   S0O0Z0F3  S0O0Z0F3XNK8                                                  -   \n",
       "1   S0Z0H0DJ  S0Z0H0DJYFCH  home wohnideen schiebevorhang digitaldruck bam...   \n",
       "2   S0J1B062  S0J1B0620136  leggings für alle die wissen worauf es ankommt...   \n",
       "3   S0I010JR  S0I010JRN3AA  bruchfeste apple iphone 6 silikon hülle im all...   \n",
       "4   S041B01K  S041B01K7KAI  maxi-rock aus leinen in a-linie mit wickelopti...   \n",
       "\n",
       "   desc_len produkt_klasse  \n",
       "0         1         Blusen  \n",
       "1      1060       Gardinen  \n",
       "2       363          Hosen  \n",
       "3       999         Hüllen  \n",
       "4       190          Röcke  "
      ]
     },
     "execution_count": 48,
     "metadata": {},
     "output_type": "execute_result"
    }
   ],
   "source": [
    "df_txt_clean[\"produkt_id\"] = df_txt_clean[\"produkt_id\"].astype(\"string\") #Typ Casting auf String\n",
    "df_typ[\"produkt_id\"]      = df_typ[\"produkt_id\"].astype(\"string\") # Type Casting auf String\n",
    "\n",
    "df_join = df_txt_clean.merge(\n",
    "    df_typ,\n",
    "    on=\"produkt_id\",\n",
    "    how=\"inner\",        # nur Produkte behalten, die in beiden Dateien vorkommen\n",
    "    validate=\"m:1\"      # viele Texte (m), ein Label (1)\n",
    ")\n",
    "\n",
    "df_txt_clean = df_txt_clean[df_txt_clean[\"beschreibung\"].str.len().ge(10)]\n",
    "\n",
    "print(\"Zeilen nach Join:\", len(df_join))\n",
    "print(\"Anteil ohne Label:\", df_join[\"produkt_klasse\"].isna().mean())\n",
    "df_join.head()\n",
    "df_join = df_join[df_join[\"beschreibung\"].str.len().ge(10)].copy() #Länge von 10 Anwenden auf df_join\n"
   ]
  },
  {
   "cell_type": "markdown",
   "id": "d324764e",
   "metadata": {},
   "source": [
    "## Vorbereitung des Baseline-Models (Bag of Words) ##"
   ]
  },
  {
   "cell_type": "markdown",
   "id": "8c1fa61a",
   "metadata": {},
   "source": [
    "**1. Prüfung, ob seltene Klassen vorliegen (wg. Train-Test-Split)**"
   ]
  },
  {
   "cell_type": "code",
   "execution_count": 55,
   "id": "1b553174",
   "metadata": {},
   "outputs": [
    {
     "data": {
      "text/plain": [
       "produkt_klasse\n",
       "Schutzvisiere                               1\n",
       "Zeitschaltuhren                             1\n",
       "Bausteine                                   1\n",
       "Nägel                                       1\n",
       "Brustwarzenabdeckungen                      1\n",
       "Verdünnungsmittel                           1\n",
       "Rüttelplatten                               1\n",
       "Bettwarenzubehör                            1\n",
       "Armaturkartuschen                           1\n",
       "31_11_Dekokissen_Sitzkissen_Kissenhüllen    1\n",
       "Name: count, dtype: Int64"
      ]
     },
     "metadata": {},
     "output_type": "display_data"
    },
    {
     "data": {
      "text/plain": [
       "(np.int64(1), np.int64(121))"
      ]
     },
     "execution_count": 55,
     "metadata": {},
     "output_type": "execute_result"
    }
   ],
   "source": [
    "vc = df_join[\"produkt_klasse\"].astype(\"string\").value_counts()\n",
    "display(vc.tail(10))  # zeigt die seltensten 10 Klassen\n",
    "vc.min(), (vc == 1).sum()"
   ]
  },
  {
   "cell_type": "markdown",
   "id": "a34ebce7",
   "metadata": {},
   "source": [
    "**2. Entferne Klassen mit nur einem Produkt, damit Stratifizierung möglich ist**"
   ]
  },
  {
   "cell_type": "code",
   "execution_count": 59,
   "id": "1a714eb9",
   "metadata": {},
   "outputs": [
    {
     "name": "stdout",
     "output_type": "stream",
     "text": [
      "Min class count nach Filter: 2\n"
     ]
    }
   ],
   "source": [
    "vc = df_join[\"produkt_klasse\"].astype(\"string\").value_counts()\n",
    "min_count = 2  # ggf. strenger setzen, siehe Hinweis unten\n",
    "keep = df_join[\"produkt_klasse\"].map(vc) >= min_count\n",
    "df_base = df_join.loc[keep, [\"beschreibung\", \"produkt_klasse\"]].copy()\n",
    "print(\"Min class count nach Filter:\", df_base[\"produkt_klasse\"].value_counts().min())"
   ]
  },
  {
   "cell_type": "markdown",
   "id": "3bbbb46d",
   "metadata": {},
   "source": [
    "**3. Train-Test-Split**"
   ]
  },
  {
   "cell_type": "code",
   "execution_count": 60,
   "id": "bd0f7fb4",
   "metadata": {},
   "outputs": [],
   "source": [
    "# 3) Train/Test-Split AUF df_base (und stratify passend zu y!)\n",
    "from sklearn.model_selection import train_test_split\n",
    "\n",
    "X = df_base[\"beschreibung\"]\n",
    "y = df_base[\"produkt_klasse\"]\n",
    "\n",
    "X_train, X_test, y_train, y_test = train_test_split(\n",
    "    X, y,\n",
    "    test_size=0.2,\n",
    "    random_state=42,\n",
    "    stratify=y\n",
    ")"
   ]
  },
  {
   "cell_type": "markdown",
   "id": "a5b32e4d",
   "metadata": {},
   "source": [
    "**4. Bag of Words Model**"
   ]
  },
  {
   "cell_type": "code",
   "execution_count": null,
   "id": "455a7d51",
   "metadata": {},
   "outputs": [],
   "source": [
    "from sklearn.feature_extraction.text import CountVectorizer\n",
    "bow = CountVectorizer(max_features=10_000)\n",
    "X_train_bow = bow.fit_transform(X_train) # Lernt das Vokabular (10.000 häufigste Wörter)\n",
    "X_test_bow = bow.transform(X_test)"
   ]
  }
 ],
 "metadata": {
  "kernelspec": {
   "display_name": "Python 3",
   "language": "python",
   "name": "python3"
  },
  "language_info": {
   "codemirror_mode": {
    "name": "ipython",
    "version": 3
   },
   "file_extension": ".py",
   "mimetype": "text/x-python",
   "name": "python",
   "nbconvert_exporter": "python",
   "pygments_lexer": "ipython3",
   "version": "3.12.6"
  }
 },
 "nbformat": 4,
 "nbformat_minor": 5
}
